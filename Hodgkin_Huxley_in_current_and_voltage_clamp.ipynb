{
  "nbformat": 4,
  "nbformat_minor": 0,
  "metadata": {
    "colab": {
      "name": "Hodgkin Huxley in current and voltage clamp.ipynb",
      "provenance": [],
      "collapsed_sections": [],
      "include_colab_link": true
    },
    "kernelspec": {
      "name": "python3",
      "display_name": "Python 3"
    }
  },
  "cells": [
    {
      "cell_type": "markdown",
      "metadata": {
        "id": "view-in-github",
        "colab_type": "text"
      },
      "source": [
        "<a href=\"https://colab.research.google.com/github/PTRRupprecht/Hodgkin-Huxley-CC-VC/blob/main/Hodgkin_Huxley_in_current_and_voltage_clamp.ipynb\" target=\"_parent\"><img src=\"https://colab.research.google.com/assets/colab-badge.svg\" alt=\"Open In Colab\"/></a>"
      ]
    },
    {
      "cell_type": "markdown",
      "metadata": {
        "id": "XQ2kBFy35ZB4"
      },
      "source": [
        "# Tutorial on modeling a single neuron\r\n",
        "\r\n",
        "by Peter Rupprecht ( p.t.r.rupprecht+hodgkin+huxley@gmail.com )\r\n",
        "\r\n",
        "The following tutorial was used in an online course for students interested in neurophysiology, as a complementary modeling section for a practical ephys course that involved patch clamp recordings in slices. It might, however, be interesting for anybody to quickly play around with the **membrane dynamics of a point neuron**.\r\n",
        "\r\n",
        "The tutorial consists of three sections.\r\n",
        "\r\n",
        "1. In the first section, code for a simple leaky integrating neuron is written. This is very close to a leaky-integrate-and-fire neuron model (**LIF neuron**) that is commonly used for network modeling. For the purpose of the course, I live-coded this example from scratch.\r\n",
        "\r\n",
        "2. In the second section, and already existing code describing the **Hodgkin-Huxley equations** (largely taken from https://github.com/swharden/pyHH) is provided to the students, together with functions to plot *e.g.* membrane potential or the dynamics of gating variables. The task of the students was to understand the code (more or less, depending on previous knowledge of Python and mathematics) and to play around with parameters, current pulses etc.\r\n",
        "\r\n",
        "3. The third section was an optional addition to the interactive part. The task for students was to rewrite the code for section (2) such that it simulates not unperturbed behavior of the channels in the neuron, but rather as if there was a **voltage-clamp experiment** going on. The code in section (3) is an example how such code could look like."
      ]
    },
    {
      "cell_type": "code",
      "metadata": {
        "id": "bpilouxNfhjS"
      },
      "source": [
        "# Load packages for numeric computations (numpy) and plotting (matplotlib)\n",
        "\n",
        "import os\n",
        "import numpy as np\n",
        "import matplotlib.pyplot as plt\n",
        "import warnings\n",
        "\n"
      ],
      "execution_count": 2,
      "outputs": []
    },
    {
      "cell_type": "markdown",
      "metadata": {
        "id": "E5srgkkO62xE"
      },
      "source": [
        "# 1. A simple leaky-and-integrate neuron\r\n",
        "\r\n",
        "The goal is to numerically solve the differential equation\r\n",
        "\r\n",
        "$C \\frac{dV}{dt} = g_L (V_L - V)$\r\n",
        "\r\n",
        "with the voltage $V$, the cell capacitance $C$, the leak conductance $g_L$ and the resting membrane potential $V_L$, in the simplest possible scheme, with the possibility to inject a variable amount of current into the neuron."
      ]
    },
    {
      "cell_type": "code",
      "metadata": {
        "colab": {
          "base_uri": "https://localhost:8080/",
          "height": 282
        },
        "id": "ijRa_2xziBXd",
        "outputId": "c0ff509e-b937-4101-e49e-87c8b862fe36"
      },
      "source": [
        "## toy example: a simple leaky-and-integrate-neuron\n",
        "\n",
        "# initialize vectors for time and voltage\n",
        "time = np.arange(0,10000)\n",
        "voltage = np.zeros((10000,))\n",
        "\n",
        "# initialize vector for the input current\n",
        "input_current = np.zeros((10000,))\n",
        "input_current[4000:6000] = 15\n",
        "\n",
        "# Capacitance, conductance, time step\n",
        "C = 1\n",
        "g = 1\n",
        "dt = 0.01\n",
        "voltage_L = -70\n",
        "\n",
        "# voltage at time point 0\n",
        "voltage[0] = -40\n",
        "\n",
        "# run the differential equation in time\n",
        "for timepoint in time[1:]:\n",
        "\n",
        "  voltage[timepoint] = voltage[timepoint-1] - g*(voltage[timepoint-1]-voltage_L)*dt/C + input_current[timepoint]*dt/C\n",
        "\n",
        "# plot the result\n",
        "plt.figure(121)\n",
        "plt.plot(time,voltage)\n",
        "plt.plot(time,input_current)\n"
      ],
      "execution_count": 3,
      "outputs": [
        {
          "output_type": "execute_result",
          "data": {
            "text/plain": [
              "[<matplotlib.lines.Line2D at 0x7f25d36bc438>]"
            ]
          },
          "metadata": {
            "tags": []
          },
          "execution_count": 3
        },
        {
          "output_type": "display_data",
          "data": {
            "image/png": "[encoded data removed]",
            "text/plain": [
              "<Figure size 432x288 with 1 Axes>"
            ]
          },
          "metadata": {
            "tags": [],
            "needs_background": "light"
          }
        }
      ]
    },
    {
      "cell_type": "markdown",
      "metadata": {
        "id": "E37QEnySVyw0"
      },
      "source": [
        "# 2. The Hodgkin and Huxley model\r\n",
        "\r\n",
        "The main functions for the Hodgkin-Huxley model are following this Github repository: https://github.com/swharden/pyHH\r\n",
        "\r\n",
        "The original paper describing the equations for the first time is by **Hodgkin & Huxley, J Physiol (1952)**, a highly recommended read: https://www.ncbi.nlm.nih.gov/pmc/articles/PMC1392413/.\r\n",
        "\r\n"
      ]
    },
    {
      "cell_type": "code",
      "metadata": {
        "id": "3K5Izw_oigtT"
      },
      "source": [
        "# The main functions for the Hodgkin-Huxley model are following this Github repository: https://github.com/swharden/pyHH\n",
        "\n",
        "# define the model for the HH model neuron\n",
        "\n",
        "\n",
        "class HHModel:\n",
        "    \"\"\"The HHModel tracks conductances of 3 channels to calculate Vm\"\"\"\n",
        "\n",
        "    class Gate:\n",
        "        \"\"\"The Gate object manages a channel's kinetics and open state\"\"\"\n",
        "        alpha, beta, state = 0, 0, 0\n",
        "\n",
        "        def update(self, deltaTms):\n",
        "            alphaState = self.alpha * (1-self.state)\n",
        "            betaState = self.beta * self.state\n",
        "            self.state += deltaTms * (alphaState - betaState)\n",
        "\n",
        "        def setInfiniteState(self):\n",
        "            self.state = self.alpha / (self.alpha + self.beta)\n",
        "\n",
        "    ENa, EK, EKleak = 115, -12, 10.6\n",
        "    gNa, gK, gKleak = 120, 36, 0.3\n",
        "    m, n, h = Gate(), Gate(), Gate()\n",
        "    Cm = 1\n",
        "\n",
        "    def __init__(self, startingVoltage=0):\n",
        "        self.Vm = startingVoltage\n",
        "        self._UpdateGateTimeConstants(startingVoltage)\n",
        "        self.m.setInfiniteState()\n",
        "        self.n.setInfiniteState()\n",
        "        self.n.setInfiniteState()\n",
        "\n",
        "    def _UpdateGateTimeConstants(self, Vm):\n",
        "        \"\"\"Update time constants of all gates based on the given Vm\"\"\"\n",
        "        self.n.alpha = .01 * ((10-Vm) / (np.exp((10-Vm)/10)-1))\n",
        "        self.n.beta = .125*np.exp(-Vm/80)\n",
        "        self.m.alpha = .1*((25-Vm) / (np.exp((25-Vm)/10)-1))\n",
        "        self.m.beta = 4*np.exp(-Vm/18)\n",
        "        self.h.alpha = .07*np.exp(-Vm/20)\n",
        "        self.h.beta = 1/(np.exp((30-Vm)/10)+1)\n",
        "\n",
        "    def _UpdateCellVoltage(self, stimulusCurrent, deltaTms):\n",
        "        \"\"\"calculate channel currents using the latest gate time constants\"\"\"\n",
        "        self.INa = np.power(self.m.state, 3) * self.gNa * \\\n",
        "            self.h.state*(self.Vm-self.ENa)\n",
        "        self.IK = np.power(self.n.state, 4) * self.gK * (self.Vm-self.EK)\n",
        "        self.IKleak = self.gKleak * (self.Vm-self.EKleak)\n",
        "        Isum = stimulusCurrent - self.INa - self.IK - self.IKleak\n",
        "        self.Vm += deltaTms * Isum / self.Cm\n",
        "\n",
        "    def _UpdateGateStates(self, deltaTms):\n",
        "        \"\"\"calculate new channel open states using latest Vm\"\"\"\n",
        "        self.n.update(deltaTms)\n",
        "        self.m.update(deltaTms)\n",
        "        self.h.update(deltaTms)\n",
        "\n",
        "    def iterate(self, stimulusCurrent, deltaTms):\n",
        "        self._UpdateGateTimeConstants(self.Vm)\n",
        "        self._UpdateCellVoltage(stimulusCurrent, deltaTms)\n",
        "        self._UpdateGateStates(deltaTms)"
      ],
      "execution_count": 1,
      "outputs": []
    },
    {
      "cell_type": "code",
      "metadata": {
        "id": "9RHUBW-eiqW7"
      },
      "source": [
        "# define the simulation to be used\n",
        "\n",
        "class Simulation:\n",
        "\n",
        "    def __init__(self, model):\n",
        "        self.model = model\n",
        "        self.CreateArrays(0, 0)\n",
        "        pass\n",
        "\n",
        "    def CreateArrays(self, pointCount, deltaTms):\n",
        "        self.times = np.arange(pointCount) * deltaTms\n",
        "        self.Vm = np.empty(pointCount)\n",
        "        self.INa = np.empty(pointCount)\n",
        "        self.IK = np.empty(pointCount)\n",
        "        self.IKleak = np.empty(pointCount)\n",
        "        self.StateN = np.empty(pointCount)\n",
        "        self.StateM = np.empty(pointCount)\n",
        "        self.StateH = np.empty(pointCount)\n",
        "\n",
        "    def Run(self, stimulusWaveform, stepSizeMs):\n",
        "        self.CreateArrays(len(stimulusWaveform), stepSizeMs)\n",
        "        print(f\"simulating {len(stimulusWaveform)} time points...\")\n",
        "        for i in range(len(stimulusWaveform)):\n",
        "            self.model.iterate(stimulusWaveform[i], stepSizeMs)\n",
        "            self.Vm[i] = self.model.Vm\n",
        "            self.INa[i] = self.model.INa\n",
        "            self.IK[i] = self.model.IK\n",
        "            self.IKleak[i] = self.model.IKleak\n",
        "            self.StateH[i] = self.model.h.state\n",
        "            self.StateM[i] = self.model.m.state\n",
        "            self.StateN[i] = self.model.n.state\n",
        "        print(\"simulation complete\")"
      ],
      "execution_count": 4,
      "outputs": []
    },
    {
      "cell_type": "code",
      "metadata": {
        "colab": {
          "base_uri": "https://localhost:8080/"
        },
        "id": "5stYBXJohAPj",
        "outputId": "b32d5625-ca4b-4edc-e4c1-3e224b338e60"
      },
      "source": [
        "# run the simulation\n",
        "\n",
        "\n",
        "# customize a neuron model if desired\n",
        "model = HHModel()\n",
        "model.gNa = 120  # typically 120\n",
        "model.gK = 36  # typically 36\n",
        "model.EK = -12  # typically -12\n",
        "model.ENa = 115  # typically 115\n",
        "\n",
        "# customize a stimulus waveform\n",
        "stim = np.zeros(20000)\n",
        "stim[7000:13000] = 5  # add a square pulse\n",
        "\n",
        "# simulate the model cell using the custom waveform\n",
        "sim = Simulation(model)\n",
        "sim.Run(stimulusWaveform=stim, stepSizeMs=0.01)"
      ],
      "execution_count": 5,
      "outputs": [
        {
          "output_type": "stream",
          "text": [
            "simulating 20000 time points...\n",
            "simulation complete\n"
          ],
          "name": "stdout"
        }
      ]
    },
    {
      "cell_type": "code",
      "metadata": {
        "colab": {
          "base_uri": "https://localhost:8080/",
          "height": 318
        },
        "id": "FwtKIdkAfUVq",
        "outputId": "fbbbe518-627e-4515-e39a-fad40632135f"
      },
      "source": [
        "# plot the results with MatPlotLib\n",
        "plt.figure(figsize=(10, 8))\n",
        "\n",
        "ax1 = plt.subplot(411)\n",
        "ax1.plot(sim.times, sim.Vm - 70, color='b')\n",
        "ax1.set_ylabel(\"Potential (mV)\")\n",
        "ax1.set_title(\"Hodgkin-Huxley Spiking Neuron Model\", fontSize=16)\n",
        "\n",
        "ax2 = plt.subplot(412)\n",
        "ax2.plot(sim.times, stim, color='r')\n",
        "ax2.set_ylabel(\"Stimulation (µA/cm²)\")\n",
        "\n",
        "#ax3 = plt.subplot(413, sharex=ax1)\n",
        "#ax3.plot(sim.times, sim.StateH, label='h')\n",
        "#ax3.plot(sim.times, sim.StateM, label='m')\n",
        "#ax3.plot(sim.times, sim.StateN, label='n')\n",
        "#ax3.set_ylabel(\"Activation (frac)\")\n",
        "#ax3.legend()\n",
        "\n",
        "#ax4 = plt.subplot(414, sharex=ax1)\n",
        "#ax4.plot(sim.times, sim.INa, label='VGSC')\n",
        "#ax4.plot(sim.times, sim.IK, label='VGKC')\n",
        "#ax4.plot(sim.times, sim.IKleak, label='KLeak')\n",
        "#ax4.set_ylabel(\"Current (µA/cm²)\")\n",
        "#ax4.set_xlabel(\"Simulation Time (milliseconds)\")\n",
        "#ax4.legend()\n",
        "\n",
        "plt.tight_layout()\n",
        "plt.show()"
      ],
      "execution_count": 6,
      "outputs": [
        {
          "output_type": "display_data",
          "data": {
            "image/png": "[encoded data removed]",
            "text/plain": [
              "<Figure size 720x576 with 2 Axes>"
            ]
          },
          "metadata": {
            "tags": [],
            "needs_background": "light"
          }
        }
      ]
    },
    {
      "cell_type": "markdown",
      "metadata": {
        "id": "A6oezQo09aAK"
      },
      "source": [
        "# 3. The Hodgkin and Huxley model in voltage clamp\r\n",
        "\r\n",
        "The code is very similar to the above code for the original Hodgkin-Huxley simulation.\r\n",
        "\r\n",
        "with the default settings, you will be able to see the active conductances when switching the holding potential from resting state to above spiking threshold: a **fast, deactivating sodium channel** component and a **slower non-deactivating potassium channel** component."
      ]
    },
    {
      "cell_type": "code",
      "metadata": {
        "id": "rG3bwnM0hkig"
      },
      "source": [
        "# define the model for the HH model neuron\r\n",
        "\r\n",
        "\r\n",
        "class HHModel:\r\n",
        "    \"\"\"The HHModel tracks conductances of 3 channels, while keeping Vm at a fixed value\"\"\"\r\n",
        "\r\n",
        "    class Gate:\r\n",
        "        \"\"\"The Gate object manages a channel's kinetics and open state\"\"\"\r\n",
        "        alpha, beta, state = 0, 0, 0\r\n",
        "\r\n",
        "        def update(self, deltaTms):\r\n",
        "            alphaState = self.alpha * (1-self.state)\r\n",
        "            betaState = self.beta * self.state\r\n",
        "            self.state += deltaTms * (alphaState - betaState)\r\n",
        "\r\n",
        "        def setInfiniteState(self):\r\n",
        "            self.state = self.alpha / (self.alpha + self.beta)\r\n",
        "\r\n",
        "    ENa, EK, EKleak = 115, -12, 10.6\r\n",
        "    gNa, gK, gKleak = 120, 36, 0.3\r\n",
        "    m, n, h = Gate(), Gate(), Gate()\r\n",
        "    Cm = 1\r\n",
        "\r\n",
        "    def __init__(self, startingVoltage=0):\r\n",
        "        self.Vm = startingVoltage\r\n",
        "        self._UpdateGateTimeConstants(startingVoltage)\r\n",
        "        self.m.setInfiniteState()\r\n",
        "        self.n.setInfiniteState()\r\n",
        "        self.n.setInfiniteState()\r\n",
        "\r\n",
        "    def _UpdateGateTimeConstants(self, Vm):\r\n",
        "        \"\"\"Update time constants of all gates based on the given Vm\"\"\"\r\n",
        "        self.n.alpha = .01 * ((10-Vm) / (np.exp((10-Vm)/10)-1))\r\n",
        "        self.n.beta = .125*np.exp(-Vm/80)\r\n",
        "        self.m.alpha = .1*((25-Vm) / (np.exp((25-Vm)/10)-1))\r\n",
        "        self.m.beta = 4*np.exp(-Vm/18)\r\n",
        "        self.h.alpha = .07*np.exp(-Vm/20)\r\n",
        "        self.h.beta = 1/(np.exp((30-Vm)/10)+1)\r\n",
        "\r\n",
        "    def _UpdateCellVoltage(self, clampedVoltage, deltaTms):\r\n",
        "        \"\"\"calculate channel currents using the latest gate time constants\"\"\"\r\n",
        "        self.INa = np.power(self.m.state, 3) * self.gNa * \\\r\n",
        "            self.h.state*(self.Vm-self.ENa)\r\n",
        "        self.IK = np.power(self.n.state, 4) * self.gK * (self.Vm-self.EK)\r\n",
        "        self.IKleak = self.gKleak * (self.Vm-self.EKleak)\r\n",
        "        #Isum = stimulusCurrent - self.INa - self.IK - self.IKleak\r\n",
        "        self.Vm = clampedVoltage\r\n",
        "\r\n",
        "    def _UpdateGateStates(self, deltaTms):\r\n",
        "        \"\"\"calculate new channel open states using latest Vm\"\"\"\r\n",
        "        self.n.update(deltaTms)\r\n",
        "        self.m.update(deltaTms)\r\n",
        "        self.h.update(deltaTms)\r\n",
        "\r\n",
        "    def iterate(self, clampedVoltage, deltaTms):\r\n",
        "        self._UpdateGateTimeConstants(self.Vm)\r\n",
        "        self._UpdateCellVoltage(clampedVoltage, deltaTms)\r\n",
        "        self._UpdateGateStates(deltaTms)"
      ],
      "execution_count": 7,
      "outputs": []
    },
    {
      "cell_type": "code",
      "metadata": {
        "id": "ruzMTnme9mfP"
      },
      "source": [
        "# define the simulation to be used\r\n",
        "\r\n",
        "class Simulation:\r\n",
        "\r\n",
        "    def __init__(self, model):\r\n",
        "        self.model = model\r\n",
        "        self.CreateArrays(0, 0)\r\n",
        "        pass\r\n",
        "\r\n",
        "    def CreateArrays(self, pointCount, deltaTms):\r\n",
        "        self.times = np.arange(pointCount) * deltaTms\r\n",
        "        self.Vm = np.empty(pointCount)\r\n",
        "        self.INa = np.empty(pointCount)\r\n",
        "        self.IK = np.empty(pointCount)\r\n",
        "        self.IKleak = np.empty(pointCount)\r\n",
        "        self.StateN = np.empty(pointCount)\r\n",
        "        self.StateM = np.empty(pointCount)\r\n",
        "        self.StateH = np.empty(pointCount)\r\n",
        "\r\n",
        "    def Run(self, clampedVoltage, stepSizeMs):\r\n",
        "        self.CreateArrays(len(clampedVoltage), stepSizeMs)\r\n",
        "        print(f\"simulating {len(clampedVoltage)} time points...\")\r\n",
        "        for i in range(len(clampedVoltage)):\r\n",
        "            self.model.iterate(clampedVoltage[i], stepSizeMs)\r\n",
        "            self.Vm[i] = self.model.Vm\r\n",
        "            self.INa[i] = self.model.INa\r\n",
        "            self.IK[i] = self.model.IK\r\n",
        "            self.IKleak[i] = self.model.IKleak\r\n",
        "            self.StateH[i] = self.model.h.state\r\n",
        "            self.StateM[i] = self.model.m.state\r\n",
        "            self.StateN[i] = self.model.n.state\r\n",
        "        print(\"simulation complete\")"
      ],
      "execution_count": 8,
      "outputs": []
    },
    {
      "cell_type": "code",
      "metadata": {
        "colab": {
          "base_uri": "https://localhost:8080/"
        },
        "id": "ZzewEw599ozY",
        "outputId": "c2223bd7-d1dc-4477-8cee-b5a6a201d964"
      },
      "source": [
        "# run the simulation\r\n",
        "\r\n",
        "\r\n",
        "# customize a neuron model if desired\r\n",
        "model = HHModel()\r\n",
        "model.gNa = 120  # typically 120\r\n",
        "model.gK = 36  # typically 36\r\n",
        "model.EK = -12  # typically -12\r\n",
        "model.ENa = 115  # typically 115\r\n",
        "\r\n",
        "# customize a stimulus waveform\r\n",
        "target_voltage = 0*np.ones(20000)\r\n",
        "target_voltage[7000:13000] = 45  # add a square pulse\r\n",
        "\r\n",
        "# simulate the model cell using the custom waveform\r\n",
        "sim = Simulation(model)\r\n",
        "sim.Run(clampedVoltage=target_voltage, stepSizeMs=0.01)"
      ],
      "execution_count": 9,
      "outputs": [
        {
          "output_type": "stream",
          "text": [
            "simulating 20000 time points...\n",
            "simulation complete\n"
          ],
          "name": "stdout"
        }
      ]
    },
    {
      "cell_type": "code",
      "metadata": {
        "colab": {
          "base_uri": "https://localhost:8080/",
          "height": 424
        },
        "id": "fpHF7kjX9qfB",
        "outputId": "ff630690-faa0-476f-f881-985b54fa8c24"
      },
      "source": [
        "# plot the results with MatPlotLib\r\n",
        "plt.figure(figsize=(10, 8))\r\n",
        "\r\n",
        "ax1 = plt.subplot(311)\r\n",
        "ax1.plot(sim.times, sim.Vm - 70, color='b')\r\n",
        "ax1.set_ylabel(\"Potential (mV)\")\r\n",
        "ax1.set_title(\"Hodgkin-Huxley Spiking Neuron Model\", fontSize=16)\r\n",
        "\r\n",
        "#ax3 = plt.subplot(413, sharex=ax1)\r\n",
        "#ax3.plot(sim.times, sim.StateH, label='h')\r\n",
        "#ax3.plot(sim.times, sim.StateM, label='m')\r\n",
        "#ax3.plot(sim.times, sim.StateN, label='n')\r\n",
        "#ax3.set_ylabel(\"Activation (frac)\")\r\n",
        "#ax3.legend()\r\n",
        "\r\n",
        "ax4 = plt.subplot(312, sharex=ax1)\r\n",
        "ax4.plot(sim.times, sim.INa, label='VGSC')\r\n",
        "ax4.plot(sim.times, sim.IK, label='VGKC')\r\n",
        "ax4.plot(sim.times, sim.IKleak, label='KLeak')\r\n",
        "ax4.set_ylabel(\"Current (µA/cm²)\")\r\n",
        "ax4.set_xlabel(\"Simulation Time (milliseconds)\")\r\n",
        "ax4.legend()\r\n",
        "\r\n",
        "plt.tight_layout()\r\n",
        "plt.show()"
      ],
      "execution_count": 10,
      "outputs": [
        {
          "output_type": "display_data",
          "data": {
            "image/png": "[encoded data removed]",
            "text/plain": [
              "<Figure size 720x576 with 2 Axes>"
            ]
          },
          "metadata": {
            "tags": [],
            "needs_background": "light"
          }
        }
      ]
    },
    {
      "cell_type": "code",
      "metadata": {
        "id": "WXmm6ORJ_NGm"
      },
      "source": [
        ""
      ],
      "execution_count": 10,
      "outputs": []
    }
  ]
}